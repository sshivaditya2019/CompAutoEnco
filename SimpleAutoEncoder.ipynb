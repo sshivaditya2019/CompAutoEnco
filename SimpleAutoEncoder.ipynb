{
  "nbformat": 4,
  "nbformat_minor": 0,
  "metadata": {
    "colab": {
      "name": "SimpleAutoEncoder.ipynb",
      "provenance": [],
      "collapsed_sections": [],
      "authorship_tag": "ABX9TyPR8hFdPi2o8agMl0252dY9",
      "include_colab_link": true
    },
    "kernelspec": {
      "name": "python3",
      "display_name": "Python 3"
    }
  },
  "cells": [
    {
      "cell_type": "markdown",
      "metadata": {
        "id": "view-in-github",
        "colab_type": "text"
      },
      "source": [
        "<a href=\"https://colab.research.google.com/github/sshivaditya2019/CompAutoEnco/blob/main/SimpleAutoEncoder.ipynb\" target=\"_parent\"><img src=\"https://colab.research.google.com/assets/colab-badge.svg\" alt=\"Open In Colab\"/></a>"
      ]
    },
    {
      "cell_type": "code",
      "metadata": {
        "id": "xu2l53Rx5F8-"
      },
      "source": [
        "import torchvision\n",
        "import torch.nn as nn\n",
        "import torch.optim\n",
        "import matplotlib.pyplot as plt\n",
        "import numpy as np"
      ],
      "execution_count": 49,
      "outputs": []
    },
    {
      "cell_type": "code",
      "metadata": {
        "id": "reM56fk76NKb"
      },
      "source": [
        "class AutoEnc(nn.Module):\n",
        "  def __init__(self, **kwargs):\n",
        "    super().__init__()\n",
        "    self.encoder_hidden_layer  = nn.Linear(\n",
        "        in_features = kwargs[\"input_shape\"],\n",
        "        out_features = 128\n",
        "    )\n",
        "    self.encoder_output_layer = nn.Linear(\n",
        "        in_features = 128,\n",
        "        out_features = 128\n",
        "    )\n",
        "    self.decoder_hidden_layer = nn.Linear(\n",
        "        in_features = 128,\n",
        "        out_features = 128\n",
        "    )\n",
        "    self.decoder_output_layer = nn.Linear(\n",
        "        in_features = 128,\n",
        "        out_features = kwargs[\"input_shape\"]\n",
        "    )\n",
        "  \n",
        "  def forward(self, features):\n",
        "    activation = self.encoder_hidden_layer(features)\n",
        "    activation = torch.relu(activation)\n",
        "    code = self.encoder_output_layer(activation)\n",
        "    code = torch.relu(code)\n",
        "    activation = self.decoder_hidden_layer(code)\n",
        "    activation = torch.relu(activation)\n",
        "    activation = self.decoder_output_layer(activation)\n",
        "    reconstructed = torch.relu(activation)\n",
        "    return reconstructed"
      ],
      "execution_count": 27,
      "outputs": []
    },
    {
      "cell_type": "code",
      "metadata": {
        "id": "He6_6Fel6Z4u"
      },
      "source": [
        "device = torch.device(\"cuda\" if torch.cuda.is_available() else \"cpu\")\n",
        "\n",
        "model = AutoEnc(input_shape = 784).to(device)\n",
        "\n",
        "optimizer = torch.optim.Adam(model.parameters(), lr=1e-3)\n",
        "\n",
        "criterion = nn.MSELoss()"
      ],
      "execution_count": 28,
      "outputs": []
    },
    {
      "cell_type": "code",
      "metadata": {
        "id": "E1-2vsAdBsl7"
      },
      "source": [
        "transform = torchvision.transforms.Compose([torchvision.transforms.ToTensor()])\n",
        "\n",
        "train_dataset = torchvision.datasets.MNIST(\n",
        "    root=\"~/torch_datasets\", train=True, transform=transform, download=True\n",
        ")\n",
        "\n",
        "test_dataset = torchvision.datasets.MNIST(\n",
        "    root=\"~/torch_datasets\", train=False, transform=transform, download=True\n",
        ")\n",
        "\n",
        "train_loader = torch.utils.data.DataLoader(\n",
        "    train_dataset,batch_size = 128, shuffle = True, num_workers = 4, pin_memory = True\n",
        ")\n",
        "\n",
        "test_loader = torch.utils.data.DataLoader(\n",
        "    test_dataset, batch_size=32, shuffle=False, num_workers=4\n",
        ")"
      ],
      "execution_count": 29,
      "outputs": []
    },
    {
      "cell_type": "code",
      "metadata": {
        "id": "vu7lJszBEILw"
      },
      "source": [
        "epochs = 10"
      ],
      "execution_count": 30,
      "outputs": []
    },
    {
      "cell_type": "code",
      "metadata": {
        "colab": {
          "base_uri": "https://localhost:8080/"
        },
        "id": "mZ82QUcgCz9n",
        "outputId": "6a1aaa91-9f37-4a2b-e131-683a2aeeeb26"
      },
      "source": [
        "for epoch in range(epochs):\n",
        "  loss = 0\n",
        "  for batch_features,_ in train_loader:\n",
        "    batch_features = batch_features.view(-1,784).to(device)\n",
        "    optimizer.zero_grad()\n",
        "    outputs = model(batch_features)\n",
        "    train_loss =  criterion(outputs, batch_features)\n",
        "    train_loss.backward()\n",
        "    optimizer.step()\n",
        "    loss += train_loss.item()\n",
        "\n",
        "  loss = loss/len(train_loader)\n",
        "  print(\"epoch : {}/{}, loss = {:.6f}\".format(epoch + 1, epochs, loss))\n"
      ],
      "execution_count": 33,
      "outputs": [
        {
          "output_type": "stream",
          "text": [
            "epoch : 1/10, loss = 0.030480\n",
            "epoch : 2/10, loss = 0.016449\n",
            "epoch : 3/10, loss = 0.014677\n",
            "epoch : 4/10, loss = 0.013711\n",
            "epoch : 5/10, loss = 0.013070\n",
            "epoch : 6/10, loss = 0.012603\n",
            "epoch : 7/10, loss = 0.012211\n",
            "epoch : 8/10, loss = 0.011944\n",
            "epoch : 9/10, loss = 0.011718\n",
            "epoch : 10/10, loss = 0.011553\n"
          ],
          "name": "stdout"
        }
      ]
    },
    {
      "cell_type": "code",
      "metadata": {
        "colab": {
          "base_uri": "https://localhost:8080/",
          "height": 282
        },
        "id": "15ZEmOQJEDGL",
        "outputId": "4c69c63f-3453-475c-9031-e15d04ddbdc4"
      },
      "source": [
        "plt.imshow(np.array(train_dataset[10][0][0]))"
      ],
      "execution_count": 64,
      "outputs": [
        {
          "output_type": "execute_result",
          "data": {
            "text/plain": [
              "<matplotlib.image.AxesImage at 0x7fe667be2bd0>"
            ]
          },
          "metadata": {
            "tags": []
          },
          "execution_count": 64
        },
        {
          "output_type": "display_data",
          "data": {
            "image/png": "[encoded data removed]",
            "text/plain": [
              "<Figure size 432x288 with 1 Axes>"
            ]
          },
          "metadata": {
            "tags": [],
            "needs_background": "light"
          }
        }
      ]
    },
    {
      "cell_type": "code",
      "metadata": {
        "colab": {
          "base_uri": "https://localhost:8080/",
          "height": 248
        },
        "id": "ifpG5Am9FqUZ",
        "outputId": "1a391f3f-8682-4b2d-f22c-22a476bff25c"
      },
      "source": [
        "test_examples = None\n",
        "with torch.no_grad():\n",
        "    for batch_features in test_loader:\n",
        "        batch_features = batch_features[0]\n",
        "        test_examples = batch_features.view(-1, 784)\n",
        "        reconstruction = model(test_examples)\n",
        "        break\n",
        "with torch.no_grad():\n",
        "    number = 10\n",
        "    plt.figure(figsize=(20, 4))\n",
        "    for index in range(number):\n",
        "        # display original\n",
        "        ax = plt.subplot(2, number, index + 1)\n",
        "        plt.imshow(test_examples[index].numpy().reshape(28, 28))\n",
        "        plt.gray()\n",
        "        ax.get_xaxis().set_visible(False)\n",
        "        ax.get_yaxis().set_visible(False)\n",
        "\n",
        "        # display reconstruction\n",
        "        ax = plt.subplot(2, number, index + 1 + number)\n",
        "        plt.imshow(reconstruction[index].numpy().reshape(28, 28))\n",
        "        plt.gray()\n",
        "        ax.get_xaxis().set_visible(False)\n",
        "        ax.get_yaxis().set_visible(False)\n",
        "    plt.show()"
      ],
      "execution_count": 69,
      "outputs": [
        {
          "output_type": "display_data",
          "data": {
            "image/png": "[encoded data removed]",
            "text/plain": [
              "<Figure size 1440x288 with 20 Axes>"
            ]
          },
          "metadata": {
            "tags": [],
            "needs_background": "light"
          }
        }
      ]
    },
    {
      "cell_type": "code",
      "metadata": {
        "id": "d_DrG_X9GNYj"
      },
      "source": [
        ""
      ],
      "execution_count": null,
      "outputs": []
    }
  ]
}