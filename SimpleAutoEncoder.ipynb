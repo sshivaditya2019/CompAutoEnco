{
  "nbformat": 4,
  "nbformat_minor": 0,
  "metadata": {
    "colab": {
      "name": "SimpleAutoEncoder.ipynb",
      "provenance": [],
      "collapsed_sections": [],
      "authorship_tag": "ABX9TyN1RdXunWB0emywTUk8sWkv",
      "include_colab_link": true
    },
    "kernelspec": {
      "name": "python3",
      "display_name": "Python 3"
    }
  },
  "cells": [
    {
      "cell_type": "markdown",
      "metadata": {
        "id": "view-in-github",
        "colab_type": "text"
      },
      "source": [
        "<a href=\"https://colab.research.google.com/github/sshivaditya2019/CompAutoEnco/blob/main/SimpleAutoEncoder.ipynb\" target=\"_parent\"><img src=\"https://colab.research.google.com/assets/colab-badge.svg\" alt=\"Open In Colab\"/></a>"
      ]
    },
    {
      "cell_type": "code",
      "metadata": {
        "id": "xu2l53Rx5F8-"
      },
      "source": [
        "import torchvision\n",
        "import torch.nn as nn"
      ],
      "execution_count": 2,
      "outputs": []
    },
    {
      "cell_type": "code",
      "metadata": {
        "id": "reM56fk76NKb"
      },
      "source": [
        "class AutoEnc(nn.Module):\n",
        "  def __init__(self, **kwargs):\n",
        "    super().__init__()\n",
        "    self.encoder_hidden_layer  = nn.Linear(\n",
        "        in_features = kargs[\"input_shape\"],\n",
        "        out_feeatures = 128\n",
        "    )\n",
        "    self.encoder_output_layer = nn.Linear(\n",
        "        in_feature = 128,\n",
        "        out_features = 128\n",
        "    )\n",
        "    self.decoder_hidden_layer = nn.Linear(\n",
        "        in_features = 128,\n",
        "        out_features = 128\n",
        "    )\n",
        "    self.decoder_hidden_layer = nn.Linear(\n",
        "        in_features = 128,\n",
        "        out_features = kwargs[\"input_shape\"]\n",
        "    )\n",
        "  \n",
        "  def forward(self, features):\n",
        "    activation = self.encoder_hidden_layer(features)\n",
        "    activation = torch.relu(activation)\n",
        "    code = self.encoder_output_layer(activation)\n",
        "    code = torch.relu(code)\n",
        "    activation = self.decoder_hidden_layer(code)\n",
        "    activation = torch.relu(activation)\n",
        "    activation = self.decoder_output_layer(activation)\n",
        "    reconstructed = torch.relu(activation)\n",
        "    return reconstructed"
      ],
      "execution_count": 5,
      "outputs": []
    },
    {
      "cell_type": "code",
      "metadata": {
        "id": "He6_6Fel6Z4u"
      },
      "source": [
        ""
      ],
      "execution_count": null,
      "outputs": []
    }
  ]
}